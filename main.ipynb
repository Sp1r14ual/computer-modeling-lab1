{
 "cells": [
  {
   "cell_type": "code",
   "execution_count": 1,
   "metadata": {},
   "outputs": [],
   "source": [
    "import pandas as pd\n",
    "import numpy as np\n",
    "from sklearn.cluster import DBSCAN\n",
    "from statsmodels.tsa.stattools import adfuller, kpss\n",
    "from statsmodels.stats.diagnostic import acorr_ljungbox\n",
    "from scipy.signal import ellip, filtfilt"
   ]
  },
  {
   "cell_type": "code",
   "execution_count": 2,
   "metadata": {},
   "outputs": [],
   "source": [
    "# Загрузка данных\n",
    "df = pd.read_csv('data.csv', parse_dates=['DATE'], dayfirst=True)\n",
    "\n",
    "# Преобразуем курс в тип float\n",
    "df['rate'] = pd.to_numeric(\n",
    "    df['Euro/Czech koruna (EXR.D.CZK.EUR.SP00.A)'], errors='coerce')\n",
    "\n",
    "# Удалим строки с пропущенными значениями\n",
    "df.dropna(inplace=True)"
   ]
  },
  {
   "cell_type": "markdown",
   "metadata": {},
   "source": [
    "### Этап 1: Удаление выбросов с использованием DBSCAN"
   ]
  },
  {
   "cell_type": "code",
   "execution_count": 11,
   "metadata": {},
   "outputs": [],
   "source": [
    "dbscan = DBSCAN(eps=0.5, min_samples=5)\n",
    "df['cluster'] = dbscan.fit_predict(df[['rate']])\n",
    "\n",
    "# Восстановим выбросы (кластеры с меткой -1) на основе соседних значений\n",
    "outliers = df['cluster'] == -1\n",
    "df.loc[outliers, 'rate'] = df['rate'].rolling(window=3, min_periods=1).mean()"
   ]
  },
  {
   "cell_type": "markdown",
   "metadata": {},
   "source": [
    "### Этап 2: Фильтрация шума\n",
    "### (a) Статистика Бокса-Пирса для теста на белый шум"
   ]
  },
  {
   "cell_type": "code",
   "execution_count": 13,
   "metadata": {},
   "outputs": [
    {
     "name": "stdout",
     "output_type": "stream",
     "text": [
      "Статистика Бокса-Пирса:\n",
      "        lb_stat  lb_pvalue\n",
      "10  66228.83027        0.0\n"
     ]
    }
   ],
   "source": [
    "ljung_box_result = acorr_ljungbox(df['rate'], lags=[10], return_df=True)\n",
    "print(f\"Статистика Бокса-Пирса:\\n{ljung_box_result}\")"
   ]
  },
  {
   "cell_type": "markdown",
   "metadata": {},
   "source": [
    "### (b) Применение эллиптического фильтра"
   ]
  },
  {
   "cell_type": "code",
   "execution_count": 14,
   "metadata": {},
   "outputs": [],
   "source": [
    "b, a = ellip(5, 0.01, 120, 0.1, btype='low', analog=False)\n",
    "df['filtered_rate'] = filtfilt(b, a, df['rate'])"
   ]
  },
  {
   "cell_type": "markdown",
   "metadata": {},
   "source": [
    "### Этап 3: Сглаживание с использованием взвешенного скользящего среднего"
   ]
  },
  {
   "cell_type": "code",
   "execution_count": 15,
   "metadata": {},
   "outputs": [],
   "source": [
    "\n",
    "df['smoothed_rate'] = df['filtered_rate'].rolling(\n",
    "    window=5, min_periods=1).mean()"
   ]
  },
  {
   "cell_type": "markdown",
   "metadata": {},
   "source": [
    "### Этап 4: Проверка стационарности до и после обработки (ADF и KPSS)"
   ]
  },
  {
   "cell_type": "code",
   "execution_count": 6,
   "metadata": {},
   "outputs": [
    {
     "name": "stderr",
     "output_type": "stream",
     "text": [
      "C:\\Users\\Sp1r14ual\\AppData\\Local\\Temp\\ipykernel_9988\\56153983.py:7: InterpolationWarning: The test statistic is outside of the range of p-values available in the\n",
      "look-up table. The actual p-value is smaller than the p-value returned.\n",
      "\n",
      "  kpss_result_before = kpss(df['rate'], regression='c')\n",
      "C:\\Users\\Sp1r14ual\\AppData\\Local\\Temp\\ipykernel_9988\\56153983.py:8: InterpolationWarning: The test statistic is outside of the range of p-values available in the\n",
      "look-up table. The actual p-value is smaller than the p-value returned.\n",
      "\n",
      "  kpss_result_after = kpss(df['smoothed_rate'], regression='c')\n"
     ]
    }
   ],
   "source": [
    "\n",
    "# ADF-тест\n",
    "adf_result_before = adfuller(df['rate'])\n",
    "adf_result_after = adfuller(df['smoothed_rate'])\n",
    "\n",
    "# KPSS-тест\n",
    "kpss_result_before = kpss(df['rate'], regression='c')\n",
    "kpss_result_after = kpss(df['smoothed_rate'], regression='c')"
   ]
  },
  {
   "cell_type": "code",
   "execution_count": 7,
   "metadata": {},
   "outputs": [
    {
     "name": "stdout",
     "output_type": "stream",
     "text": [
      "ADF-тест до обработки: p-значение = 0.042636539414536115\n",
      "ADF-тест после обработки: p-значение = 0.021308310239812937\n",
      "KPSS-тест до обработки: p-значение = 0.01\n",
      "KPSS-тест после обработки: p-значение = 0.01\n"
     ]
    }
   ],
   "source": [
    "print(f\"ADF-тест до обработки: p-значение = {adf_result_before[1]}\")\n",
    "print(f\"ADF-тест после обработки: p-значение = {adf_result_after[1]}\")\n",
    "print(f\"KPSS-тест до обработки: p-значение = {kpss_result_before[1]}\")\n",
    "print(f\"KPSS-тест после обработки: p-значение = {kpss_result_after[1]}\")"
   ]
  },
  {
   "cell_type": "code",
   "execution_count": 8,
   "metadata": {},
   "outputs": [
    {
     "name": "stdout",
     "output_type": "stream",
     "text": [
      "В данных присутствует нисходящий тренд.\n"
     ]
    }
   ],
   "source": [
    "# Этап 5: Проверка на наличие тренда методом Фостера-Стьюарта\n",
    "df['diff'] = df['smoothed_rate'].diff()\n",
    "trend_foster_stewart = np.sign(df['diff']).sum()\n",
    "\n",
    "if trend_foster_stewart > 0:\n",
    "    print(\"В данных присутствует восходящий тренд.\")\n",
    "elif trend_foster_stewart < 0:\n",
    "    print(\"В данных присутствует нисходящий тренд.\")\n",
    "else:\n",
    "    print(\"Тренд не выявлен.\")"
   ]
  },
  {
   "cell_type": "code",
   "execution_count": 10,
   "metadata": {},
   "outputs": [
    {
     "name": "stdout",
     "output_type": "stream",
     "text": [
      "            DATE    rate  filtered_rate  smoothed_rate\n",
      "0     1999-01-04  35.107      35.101536      35.101536\n",
      "1     1999-01-05  34.917      35.113236      35.107386\n",
      "2     1999-01-06  34.850      35.132413      35.115729\n",
      "3     1999-01-07  34.886      35.163508      35.127673\n",
      "4     1999-01-08  34.938      35.209378      35.144014\n",
      "...          ...     ...            ...            ...\n",
      "6727  2025-01-13  25.230      25.181045      25.166300\n",
      "6728  2025-01-14  25.294      25.197026      25.173697\n",
      "6729  2025-01-15  25.218      25.216458      25.185159\n",
      "6730  2025-01-16  25.231      25.238295      25.200417\n",
      "6731  2025-01-17  25.265      25.261328      25.218831\n",
      "\n",
      "[6670 rows x 4 columns]\n"
     ]
    }
   ],
   "source": [
    "# Выводим первые 5 строк для проверки результатов\n",
    "print(df[['DATE', 'rate', 'filtered_rate', 'smoothed_rate']])"
   ]
  }
 ],
 "metadata": {
  "kernelspec": {
   "display_name": ".venv",
   "language": "python",
   "name": "python3"
  },
  "language_info": {
   "codemirror_mode": {
    "name": "ipython",
    "version": 3
   },
   "file_extension": ".py",
   "mimetype": "text/x-python",
   "name": "python",
   "nbconvert_exporter": "python",
   "pygments_lexer": "ipython3",
   "version": "3.12.7"
  }
 },
 "nbformat": 4,
 "nbformat_minor": 2
}
